{
 "cells": [
  {
   "cell_type": "code",
   "execution_count": 1,
   "metadata": {},
   "outputs": [
    {
     "name": "stdout",
     "output_type": "stream",
     "text": [
      "Forme des données (images): (70000, 784)\n",
      "Forme des labels: (70000,)\n"
     ]
    }
   ],
   "source": [
    "from sklearn.datasets import fetch_openml\n",
    "\n",
    "# Télécharger le dataset MNIST\n",
    "mnist = fetch_openml('mnist_784', version=1)\n",
    "\n",
    "# Accéder aux données (images) et aux étiquettes (labels)\n",
    "X, y = mnist['data'], mnist['target']\n",
    "\n",
    "# Afficher la forme des données pour confirmation\n",
    "print(f\"Forme des données (images): {X.shape}\")\n",
    "print(f\"Forme des labels: {y.shape}\")\n"
   ]
  },
  {
   "cell_type": "code",
   "execution_count": 2,
   "metadata": {},
   "outputs": [
    {
     "data": {
      "image/png": "[encoded data removed]",
      "text/plain": [
       "<Figure size 640x480 with 1 Axes>"
      ]
     },
     "metadata": {},
     "output_type": "display_data"
    },
    {
     "name": "stdout",
     "output_type": "stream",
     "text": [
      "Label de l'image: 9\n"
     ]
    }
   ],
   "source": [
    "from sklearn.datasets import fetch_openml\n",
    "import matplotlib.pyplot as plt\n",
    "import numpy as np\n",
    "\n",
    "# Assurez-vous d'obtenir des arrays NumPy\n",
    "mnist = fetch_openml('mnist_784', version=1, as_frame=False)\n",
    "X, y = mnist['data'], mnist['target']\n",
    "\n",
    "some_digit_index = 36000\n",
    "some_digit = X[some_digit_index]\n",
    "some_digit_image = some_digit.reshape(28, 28)  # Redimensionner de 784 à 28x28 pixels pour l'affichage\n",
    "\n",
    "plt.imshow(some_digit_image, cmap='binary')\n",
    "plt.axis(\"off\")\n",
    "plt.show()\n",
    "\n",
    "print(f\"Label de l'image: {y[some_digit_index]}\")"
   ]
  },
  {
   "cell_type": "code",
   "execution_count": 3,
   "metadata": {},
   "outputs": [
    {
     "name": "stdout",
     "output_type": "stream",
     "text": [
      "Dimensions de X_train: (60000, 784)\n",
      "Dimensions de y_train: (60000,)\n"
     ]
    }
   ],
   "source": [
    "from sklearn.datasets import fetch_openml\n",
    "import numpy as np\n",
    "\n",
    "# Télécharger le dataset MNIST\n",
    "mnist = fetch_openml('mnist_784', version=1, as_frame=False)\n",
    "X, y = mnist['data'], mnist['target']\n",
    "\n",
    "# Séparation des données en ensembles d'entraînement et de test\n",
    "X_train, X_test, y_train, y_test = X[:60000], X[60000:], y[:60000], y[60000:]\n",
    "\n",
    "# Permutation aléatoire des données d'entraînement\n",
    "shuffle_index = np.random.permutation(60000)\n",
    "X_train, y_train = X_train[shuffle_index], y_train[shuffle_index]\n",
    "\n",
    "# Affichage des dimensions pour vérification\n",
    "print(\"Dimensions de X_train:\", X_train.shape)\n",
    "print(\"Dimensions de y_train:\", y_train.shape)"
   ]
  },
  {
   "cell_type": "code",
   "execution_count": 4,
   "metadata": {},
   "outputs": [
    {
     "name": "stdout",
     "output_type": "stream",
     "text": [
      "La prédiction pour l'image sélectionnée est : [False]\n"
     ]
    }
   ],
   "source": [
    "# -*-coding:Utf-8 -*\n",
    "from sklearn.datasets import fetch_openml\n",
    "from sklearn.linear_model import SGDClassifier\n",
    "import numpy as np\n",
    "\n",
    "# Télécharger le dataset MNIST\n",
    "mnist = fetch_openml('mnist_784', version=1, as_frame=False)\n",
    "X, y = mnist['data'], mnist['target']\n",
    "\n",
    "# Séparation des données en ensembles d'entraînement et de test\n",
    "X_train, X_test, y_train, y_test = X[:60000], X[60000:], y[:60000], y[60000:]\n",
    "\n",
    "# Permutation aléatoire des données d'entraînement pour mélanger les données\n",
    "shuffle_index = np.random.permutation(60000)\n",
    "X_train, y_train = X_train[shuffle_index], y_train[shuffle_index]\n",
    "\n",
    "# Création des vecteurs cibles pour l'entraînement et le test\n",
    "y_train_5 = (y_train == '5')  # True pour les 5, False pour les autres chiffres\n",
    "y_test_5 = (y_test == '5')\n",
    "\n",
    "# Sélection du classificateur SGD\n",
    "sgd_clf = SGDClassifier(random_state=42)\n",
    "\n",
    "# Entraînement du classificateur sur l'ensemble d'entraînement\n",
    "sgd_clf.fit(X_train, y_train_5)\n",
    "\n",
    "# Utilisation du classificateur pour prédire si une image représente un 5\n",
    "prediction = sgd_clf.predict([X[36000]])\n",
    "\n",
    "print(\"La prédiction pour l'image sélectionnée est :\", prediction)"
   ]
  },
  {
   "cell_type": "code",
   "execution_count": 5,
   "metadata": {},
   "outputs": [
    {
     "name": "stdout",
     "output_type": "stream",
     "text": [
      "Scores d'accuracy pour SGDClassifier : [0.95035 0.96035 0.9604 ]\n"
     ]
    }
   ],
   "source": [
    "from sklearn.model_selection import cross_val_score\n",
    "from sklearn.linear_model import SGDClassifier\n",
    "from sklearn.datasets import fetch_openml\n",
    "import numpy as np\n",
    "\n",
    "# Assurez-vous d'obtenir des arrays NumPy\n",
    "mnist = fetch_openml('mnist_784', version=1, as_frame=False)\n",
    "X, y = mnist['data'], mnist['target']\n",
    "\n",
    "# Convertir les étiquettes en booléens : True pour les '5', False pour les autres chiffres\n",
    "y_5 = (y == '5')\n",
    "\n",
    "# Séparation des données en ensembles d'entraînement et de test\n",
    "X_train, X_test, y_train_5, y_test_5 = X[:60000], X[60000:], y_5[:60000], y_5[60000:]\n",
    "\n",
    "# Initialiser le SGDClassifier\n",
    "sgd_clf = SGDClassifier(random_state=42)\n",
    "\n",
    "# Évaluer le SGDClassifier à l'aide d'une validation croisée\n",
    "sgd_scores = cross_val_score(sgd_clf, X_train, y_train_5, cv=3, scoring=\"accuracy\")\n",
    "\n",
    "print(\"Scores d'accuracy pour SGDClassifier :\", sgd_scores)"
   ]
  },
  {
   "cell_type": "code",
   "execution_count": 6,
   "metadata": {},
   "outputs": [
    {
     "name": "stdout",
     "output_type": "stream",
     "text": [
      "Scores d'accuracy pour le classificateur 'Never 5': [0.91125 0.90855 0.90915]\n"
     ]
    }
   ],
   "source": [
    "from sklearn.datasets import fetch_openml\n",
    "from sklearn.model_selection import cross_val_score\n",
    "from sklearn.base import BaseEstimator\n",
    "import numpy as np\n",
    "\n",
    "# Assurez-vous d'obtenir des arrays NumPy\n",
    "mnist = fetch_openml('mnist_784', version=1, as_frame=False)\n",
    "X, y = mnist['data'], mnist['target']\n",
    "\n",
    "# Convertir les étiquettes en booléens : True pour les '5', False pour les autres chiffres\n",
    "y_5 = (y == '5')\n",
    "\n",
    "# Séparation des données en ensembles d'entraînement et de test\n",
    "X_train, X_test, y_train_5, y_test_5 = X[:60000], X[60000:], y_5[:60000], y_5[60000:]\n",
    "\n",
    "# Définir le classificateur \"Never 5\"\n",
    "class Never5Classifier(BaseEstimator):\n",
    "    def fit(self, X, y=None):\n",
    "        pass\n",
    "    def predict(self, X):\n",
    "        return np.zeros((len(X), 1), dtype=bool)\n",
    "\n",
    "# Initialiser le classificateur \"Never 5\"\n",
    "never_5_clf = Never5Classifier()\n",
    "\n",
    "# Évaluer le classificateur \"Never 5\" à l'aide d'une validation croisée\n",
    "never_5_scores = cross_val_score(never_5_clf, X_train, y_train_5, cv=3, scoring=\"accuracy\")\n",
    "\n",
    "print(\"Scores d'accuracy pour le classificateur 'Never 5':\", never_5_scores)\n"
   ]
  },
  {
   "cell_type": "code",
   "execution_count": 7,
   "metadata": {},
   "outputs": [
    {
     "name": "stdout",
     "output_type": "stream",
     "text": [
      "Précision: 0.8370879772350012\n",
      "Rappel: 0.6511713705958311\n"
     ]
    }
   ],
   "source": [
    "# -*- coding: utf-8 -*-\n",
    "\n",
    "\n",
    "from sklearn.metrics import precision_score, recall_score\n",
    "from sklearn.model_selection import cross_val_predict\n",
    "from sklearn.linear_model import SGDClassifier\n",
    "from sklearn.datasets import fetch_openml\n",
    "\n",
    "# Téléchargement du dataset MNIST\n",
    "mnist = fetch_openml('mnist_784', version=1, as_frame=False)\n",
    "X, y = mnist['data'], mnist['target']\n",
    "\n",
    "# Convertir les étiquettes en booléens : True pour les '5', False pour les autres chiffres\n",
    "y_5 = (y == '5')\n",
    "\n",
    "# Séparation des données en ensembles d'entraînement et de test\n",
    "X_train, X_test, y_train_5, y_test_5 = X[:60000], X[60000:], y_5[:60000], y_5[60000:]\n",
    "\n",
    "# Initialiser le SGDClassifier\n",
    "sgd_clf = SGDClassifier(random_state=42)\n",
    "\n",
    "# Générer les prédictions avec cross_val_predict\n",
    "y_train_pred = cross_val_predict(sgd_clf, X_train, y_train_5, cv=3)\n",
    "\n",
    "# Calculer la précision et le rappel\n",
    "precision = precision_score(y_train_5, y_train_pred)\n",
    "recall = recall_score(y_train_5, y_train_pred)\n",
    "\n",
    "print(f\"Précision: {precision}\")\n",
    "print(f\"Rappel: {recall}\")\n"
   ]
  },
  {
   "cell_type": "code",
   "execution_count": 8,
   "metadata": {},
   "outputs": [
    {
     "name": "stdout",
     "output_type": "stream",
     "text": [
      "Prédiction du SGDClassifier : ['5']\n"
     ]
    }
   ],
   "source": [
    "from sklearn.linear_model import SGDClassifier\n",
    "from sklearn.datasets import fetch_openml\n",
    "from sklearn.model_selection import train_test_split\n",
    "\n",
    "# Téléchargement du dataset MNIST\n",
    "mnist = fetch_openml('mnist_784', version=1, as_frame=False)\n",
    "X, y = mnist['data'], mnist['target']\n",
    "\n",
    "# Séparation des données en ensembles d'entraînement et de test\n",
    "X_train, X_test, y_train, y_test = train_test_split(X, y, test_size=0.2, random_state=42)\n",
    "\n",
    "# Initialiser le SGDClassifier\n",
    "sgd_clf = SGDClassifier(random_state=42)\n",
    "\n",
    "# Entraîner le modèle sur l'ensemble d'entraînement avec les classes originales (0-9)\n",
    "sgd_clf.fit(X_train, y_train)\n",
    "\n",
    "# Faire une prédiction\n",
    "some_digit = X[0]  # Vous pouvez choisir une autre image si vous le souhaitez\n",
    "print(\"Prédiction du SGDClassifier :\", sgd_clf.predict([some_digit]))\n"
   ]
  },
  {
   "cell_type": "code",
   "execution_count": 9,
   "metadata": {},
   "outputs": [
    {
     "name": "stdout",
     "output_type": "stream",
     "text": [
      "Prédiction du classificateur OvO : ['5']\n",
      "Nombre de classificateurs binaires : 45\n"
     ]
    }
   ],
   "source": [
    "from sklearn.multiclass import OneVsOneClassifier\n",
    "from sklearn.linear_model import SGDClassifier\n",
    "from sklearn.datasets import fetch_openml\n",
    "from sklearn.model_selection import train_test_split\n",
    "\n",
    "# Téléchargement du dataset MNIST\n",
    "mnist = fetch_openml('mnist_784', version=1, as_frame=False)\n",
    "X, y = mnist['data'], mnist['target']\n",
    "\n",
    "# Séparation des données en ensembles d'entraînement et de test\n",
    "X_train, X_test, y_train, y_test = train_test_split(X, y, test_size=0.2, random_state=42)\n",
    "\n",
    "# Initialiser le classificateur binaire SGDClassifier\n",
    "binary_clf = SGDClassifier(random_state=42)\n",
    "\n",
    "# Initialiser le classificateur multiclasse OneVsOneClassifier basé sur le SGDClassifier binaire\n",
    "ovo_clf = OneVsOneClassifier(binary_clf)\n",
    "\n",
    "# Entraîner le modèle sur l'ensemble d'entraînement\n",
    "ovo_clf.fit(X_train, y_train)\n",
    "\n",
    "# Faire une prédiction\n",
    "some_digit = X[0]  # Vous pouvez choisir une autre image si vous le souhaitez\n",
    "print(\"Prédiction du classificateur OvO :\", ovo_clf.predict([some_digit]))\n",
    "\n",
    "# Afficher le nombre de classificateurs binaires utilisés par le classificateur OvO\n",
    "print(\"Nombre de classificateurs binaires :\", len(ovo_clf.estimators_))\n"
   ]
  },
  {
   "cell_type": "code",
   "execution_count": 10,
   "metadata": {},
   "outputs": [
    {
     "name": "stdout",
     "output_type": "stream",
     "text": [
      "Prediction: ['8']\n"
     ]
    }
   ],
   "source": [
    "# Importer les bibliothèques nécessaires\n",
    "from sklearn.datasets import fetch_openml\n",
    "from sklearn.model_selection import train_test_split\n",
    "from sklearn.linear_model import SGDClassifier\n",
    "from sklearn.preprocessing import StandardScaler\n",
    "\n",
    "# Charger le jeu de données MNIST\n",
    "mnist = fetch_openml('mnist_784', version=1)\n",
    "X, y = mnist[\"data\"], mnist[\"target\"]\n",
    "\n",
    "# Diviser les données en ensembles d'entraînement et de test\n",
    "X_train, X_test, y_train, y_test = train_test_split(X, y, test_size=0.2, random_state=42)\n",
    "\n",
    "# Mise à l'échelle des caractéristiques\n",
    "scaler = StandardScaler()\n",
    "X_train_scaled = scaler.fit_transform(X_train.astype(float))\n",
    "X_test_scaled = scaler.transform(X_test.astype(float))\n",
    "\n",
    "# Créer et entraîner le classificateur SGD\n",
    "sgd_clf = SGDClassifier(random_state=42)\n",
    "sgd_clf.fit(X_train_scaled, y_train)\n",
    "\n",
    "# Faire une prédiction sur une instance\n",
    "some_digit = X_test_scaled[0]\n",
    "prediction = sgd_clf.predict([some_digit])\n",
    "print(\"Prediction:\", prediction)\n"
   ]
  },
  {
   "cell_type": "code",
   "execution_count": 11,
   "metadata": {},
   "outputs": [
    {
     "name": "stdout",
     "output_type": "stream",
     "text": [
      "Prediction: ['8']\n",
      "Nombre d'estimateurs: 45\n"
     ]
    }
   ],
   "source": [
    "# Importer les bibliothèques nécessaires\n",
    "from sklearn.datasets import fetch_openml\n",
    "from sklearn.model_selection import train_test_split\n",
    "from sklearn.linear_model import SGDClassifier\n",
    "from sklearn.multiclass import OneVsOneClassifier\n",
    "from sklearn.preprocessing import StandardScaler\n",
    "\n",
    "# Charger le jeu de données MNIST\n",
    "mnist = fetch_openml('mnist_784', version=1)\n",
    "X, y = mnist[\"data\"], mnist[\"target\"]\n",
    "\n",
    "# Diviser les données en ensembles d'entraînement et de test\n",
    "X_train, X_test, y_train, y_test = train_test_split(X, y, test_size=0.2, random_state=42)\n",
    "\n",
    "# Mise à l'échelle des caractéristiques\n",
    "scaler = StandardScaler()\n",
    "X_train_scaled = scaler.fit_transform(X_train.astype(float))\n",
    "X_test_scaled = scaler.transform(X_test.astype(float))\n",
    "\n",
    "# Créer et entraîner le classificateur OvO basé sur SGDClassifier\n",
    "ovo_clf = OneVsOneClassifier(SGDClassifier(random_state=42))\n",
    "ovo_clf.fit(X_train_scaled, y_train)\n",
    "\n",
    "# Faire une prédiction sur une instance\n",
    "some_digit = X_test_scaled[0]\n",
    "prediction = ovo_clf.predict([some_digit])\n",
    "print(\"Prediction:\", prediction)\n",
    "print(\"Nombre d'estimateurs:\", len(ovo_clf.estimators_))\n",
    "\n"
   ]
  },
  {
   "cell_type": "code",
   "execution_count": 13,
   "metadata": {},
   "outputs": [
    {
     "name": "stdout",
     "output_type": "stream",
     "text": [
      "Exactitude moyenne: 0.9057856306782172\n",
      "Exactitude pour chaque fold: [0.91000161 0.90625167 0.90110361]\n"
     ]
    }
   ],
   "source": [
    "from sklearn.linear_model import SGDClassifier\n",
    "from sklearn.model_selection import cross_val_score\n",
    "from sklearn.datasets import fetch_openml\n",
    "from sklearn.model_selection import train_test_split\n",
    "from sklearn.preprocessing import StandardScaler\n",
    "\n",
    "# Charger le jeu de données MNIST\n",
    "mnist = fetch_openml('mnist_784', version=1)\n",
    "X, y = mnist[\"data\"], mnist[\"target\"]\n",
    "\n",
    "# Diviser les données en ensembles d'entraînement et de test\n",
    "X_train, X_test, y_train, y_test = train_test_split(X, y, test_size=0.2, random_state=42)\n",
    "\n",
    "# Mise à l'échelle des caractéristiques\n",
    "scaler = StandardScaler()\n",
    "X_train_scaled = scaler.fit_transform(X_train.astype(float))\n",
    "X_test_scaled = scaler.transform(X_test.astype(float))\n",
    "\n",
    "# Créer un classificateur SGD avec un nombre maximal d'itérations plus élevé\n",
    "sgd_clf = SGDClassifier(max_iter=2000, tol=1e-3, random_state=42)\n",
    "\n",
    "# Évaluer le classificateur à l'aide de la validation croisée\n",
    "scores = cross_val_score(sgd_clf, X_train_scaled, y_train, cv=3, scoring=\"accuracy\")\n",
    "\n",
    "# Afficher les résultats de l'évaluation\n",
    "print(\"Exactitude moyenne:\", scores.mean())\n",
    "print(\"Exactitude pour chaque fold:\", scores)\n"
   ]
  }
 ],
 "metadata": {
  "kernelspec": {
   "display_name": "Python 3",
   "language": "python",
   "name": "python3"
  },
  "language_info": {
   "codemirror_mode": {
    "name": "ipython",
    "version": 3
   },
   "file_extension": ".py",
   "mimetype": "text/x-python",
   "name": "python",
   "nbconvert_exporter": "python",
   "pygments_lexer": "ipython3",
   "version": "3.10.11"
  }
 },
 "nbformat": 4,
 "nbformat_minor": 2
}
